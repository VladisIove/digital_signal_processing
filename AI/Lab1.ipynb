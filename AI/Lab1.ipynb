{
 "cells": [
  {
   "cell_type": "markdown",
   "id": "6fe8019a",
   "metadata": {},
   "source": [
    "Швидкий погляд на дані:\n",
    "1. Завантажте набір даних.\n",
    "2. Виведіть заголовок таблиці (перші 5 записів).\n",
    "3. Скільки рядків і стовпців в таблиці?\n",
    "4. Які назви стовпців?\n",
    "5. Які типи даних у різних стовпців?\n",
    "6. Скільки в кожному з них унікальних значень?\n",
    "7. Скільки пропущених значень?"
   ]
  },
  {
   "cell_type": "markdown",
   "id": "ebe4aa00",
   "metadata": {},
   "source": [
    "Варіант 5\n",
    "Набір даних: продажі відеоігор (vgsales.csv).\n",
    "Аналіз даних:\n",
    "1. Знайдіть ТОП-10 ігор за кількістю продажів на платформі PC за всі\n",
    "роки (1980-2020).\n",
    "2. Побудуйте графік продажів гри Super Mario Bros. в Європі за роками.\n",
    "3. Визначте, ігри якого жанру найчастіше продавались в Північній\n",
    "Америці у 2010 році. Підрахуйте сумарну кількість проданих ігор\n",
    "цього жанру.\n",
    "4. Побудуйте кругову діаграму, яка відображає долю проданих ігор 5\n",
    "найпопулярніших видавництв (Publisher) по відношенню до\n",
    "загальної кількості проданих ігор за останні 10 років.\n",
    "5. Визначте середню кількість всіх проданих ігор у світі за кожні 5\n",
    "років, починаючи з 1980. Побудуйте графік hist."
   ]
  },
  {
   "cell_type": "code",
   "execution_count": 1,
   "id": "d6aa71e7",
   "metadata": {},
   "outputs": [],
   "source": [
    "import csv\n",
    "import os\n",
    "import pandas as pd\n",
    "import numpy as np\n",
    "import matplotlib.pyplot as plt"
   ]
  },
  {
   "cell_type": "code",
   "execution_count": 2,
   "id": "c24e1390",
   "metadata": {},
   "outputs": [],
   "source": [
    "# Read file\n",
    "file = pd.read_csv('data.csv')    "
   ]
  },
  {
   "cell_type": "code",
   "execution_count": 3,
   "id": "9d1c8703",
   "metadata": {},
   "outputs": [
    {
     "name": "stdout",
     "output_type": "stream",
     "text": [
      "   Rank                      Name Platform    Year         Genre Publisher  \\\n",
      "0     1                Wii Sports      Wii  2006.0        Sports  Nintendo   \n",
      "1     2         Super Mario Bros.      NES  1985.0      Platform  Nintendo   \n",
      "2     3            Mario Kart Wii      Wii  2008.0        Racing  Nintendo   \n",
      "3     4         Wii Sports Resort      Wii  2009.0        Sports  Nintendo   \n",
      "4     5  Pokemon Red/Pokemon Blue       GB  1996.0  Role-Playing  Nintendo   \n",
      "\n",
      "   NA_Sales  EU_Sales  JP_Sales  Other_Sales  Global_Sales  \n",
      "0     41.49     29.02      3.77         8.46         82.74  \n",
      "1     29.08      3.58      6.81         0.77         40.24  \n",
      "2     15.85     12.88      3.79         3.31         35.82  \n",
      "3     15.75     11.01      3.28         2.96         33.00  \n",
      "4     11.27      8.89     10.22         1.00         31.37  \n"
     ]
    }
   ],
   "source": [
    "# Print first 5 rows\n",
    "print(file[:5])"
   ]
  },
  {
   "cell_type": "code",
   "execution_count": 4,
   "id": "26add9f8",
   "metadata": {},
   "outputs": [
    {
     "name": "stdout",
     "output_type": "stream",
     "text": [
      "Rows: 16598 , Columns: 11\n"
     ]
    }
   ],
   "source": [
    "# Count rows and columns\n",
    "size = file.shape\n",
    "print(f'Rows: {size[0]} , Columns: {size[1]}')"
   ]
  },
  {
   "cell_type": "code",
   "execution_count": 5,
   "id": "d3ddeee5",
   "metadata": {},
   "outputs": [
    {
     "name": "stdout",
     "output_type": "stream",
     "text": [
      "Rank, Name, Platform, Year, Genre, Publisher, NA_Sales, EU_Sales, JP_Sales, Other_Sales, Global_Sales\n"
     ]
    }
   ],
   "source": [
    "# Print name columns\n",
    "print(', '.join(list(file.columns)))"
   ]
  },
  {
   "cell_type": "code",
   "execution_count": 6,
   "id": "6337bbbd",
   "metadata": {},
   "outputs": [
    {
     "name": "stdout",
     "output_type": "stream",
     "text": [
      "Rank              int64\n",
      "Name             object\n",
      "Platform         object\n",
      "Year            float64\n",
      "Genre            object\n",
      "Publisher        object\n",
      "NA_Sales        float64\n",
      "EU_Sales        float64\n",
      "JP_Sales        float64\n",
      "Other_Sales     float64\n",
      "Global_Sales    float64\n",
      "dtype: object\n"
     ]
    }
   ],
   "source": [
    "# Print datatypes columns\n",
    "print(file.dtypes)"
   ]
  },
  {
   "cell_type": "code",
   "execution_count": 7,
   "id": "d8e5c559",
   "metadata": {},
   "outputs": [
    {
     "name": "stdout",
     "output_type": "stream",
     "text": [
      "Rank            16598\n",
      "Name            11493\n",
      "Platform           31\n",
      "Year               40\n",
      "Genre              12\n",
      "Publisher         579\n",
      "NA_Sales          409\n",
      "EU_Sales          305\n",
      "JP_Sales          244\n",
      "Other_Sales       157\n",
      "Global_Sales      623\n",
      "dtype: int64\n"
     ]
    }
   ],
   "source": [
    "# Print count unique values in columns\n",
    "print(file.apply(lambda col: len(col.unique())))"
   ]
  },
  {
   "cell_type": "code",
   "execution_count": 8,
   "id": "2bdd9121",
   "metadata": {},
   "outputs": [
    {
     "name": "stdout",
     "output_type": "stream",
     "text": [
      "Rank              0\n",
      "Name              0\n",
      "Platform          0\n",
      "Year            271\n",
      "Genre             0\n",
      "Publisher        58\n",
      "NA_Sales          0\n",
      "EU_Sales          0\n",
      "JP_Sales          0\n",
      "Other_Sales       0\n",
      "Global_Sales      0\n",
      "dtype: int64\n"
     ]
    }
   ],
   "source": [
    "# Print count empty values in columns\n",
    "print(file.apply(lambda col: np.count_nonzero(col.isnull())))"
   ]
  },
  {
   "cell_type": "code",
   "execution_count": 9,
   "id": "437d797c",
   "metadata": {},
   "outputs": [
    {
     "name": "stdout",
     "output_type": "stream",
     "text": [
      "                                       Name Platform  Global_Sales\n",
      "83                               The Sims 3       PC          8.11\n",
      "137                       World of Warcraft       PC          6.28\n",
      "181                              Diablo III       PC          5.20\n",
      "194              Microsoft Flight Simulator       PC          5.12\n",
      "217          StarCraft II: Wings of Liberty       PC          4.83\n",
      "267          Warcraft II: Tides of Darkness       PC          4.21\n",
      "281                               Half-Life       PC          4.12\n",
      "288  World of Warcraft: The Burning Crusade       PC          4.09\n",
      "310             The Elder Scrolls V: Skyrim       PC          3.88\n",
      "328                     The Sims: Unleashed       PC          3.76\n"
     ]
    }
   ],
   "source": [
    "# Print top 10 games for PC \n",
    "top_10_games = file.loc[file['Platform']=='PC'].nlargest(10, 'Global_Sales')\n",
    "print(top_10_games[['Name', 'Platform', 'Global_Sales']])"
   ]
  },
  {
   "cell_type": "code",
   "execution_count": 10,
   "id": "b1354e04",
   "metadata": {},
   "outputs": [
    {
     "name": "stdout",
     "output_type": "stream",
     "text": [
      "                  Name  EU_Sales    Year\n",
      "1    Super Mario Bros.      3.58  1985.0\n",
      "200  Super Mario Bros.      1.30  1999.0\n"
     ]
    },
    {
     "data": {
      "image/png": "[encoded data removed]",
      "text/plain": [
       "<Figure size 432x288 with 1 Axes>"
      ]
     },
     "metadata": {
      "needs_background": "light"
     },
     "output_type": "display_data"
    }
   ],
   "source": [
    "# Plot grafic sales game Super Mario Bros in Europe by time \n",
    "mario_data = file.loc[file['Name'] == 'Super Mario Bros.']\n",
    "print(mario_data[['Name', 'EU_Sales', 'Year']])\n",
    "fig = plt.figure()\n",
    "ax = fig.add_subplot(111)\n",
    "ax.plot(mario_data['Year'], mario_data['EU_Sales'], color = 'black', linewidth = 5)\n",
    "plt.title(\"Grafic sales game Super Mario Bros in Europe by time \")\n",
    "plt.show()\n",
    "\n"
   ]
  },
  {
   "cell_type": "code",
   "execution_count": 11,
   "id": "e29de0b6",
   "metadata": {},
   "outputs": [
    {
     "name": "stdout",
     "output_type": "stream",
     "text": [
      "           Rank      Year  NA_Sales  EU_Sales  JP_Sales  Other_Sales  \\\n",
      "Genre                                                                  \n",
      "Action  1617111  454260.0     60.32     35.75      8.58        12.85   \n",
      "\n",
      "        Global_Sales  \n",
      "Genre                 \n",
      "Action        117.64  \n"
     ]
    }
   ],
   "source": [
    "# Print main popular genre in NA and count sales this genre\n",
    "print(file.loc[file['Year']==2010].groupby(by=\"Genre\").sum().nlargest(1, 'NA_Sales'))"
   ]
  },
  {
   "cell_type": "markdown",
   "id": "bd797ccc",
   "metadata": {},
   "source": [
    "Побудуйте кругову діаграму, яка відображає долю проданих ігор 5 найпопулярніших видавництв (Publisher) по відношенню до загальної кількості проданих ігор за останні 10 років."
   ]
  },
  {
   "cell_type": "code",
   "execution_count": 60,
   "id": "9a49fd75",
   "metadata": {},
   "outputs": [
    {
     "data": {
      "text/plain": [
       "(-1.102399880906558,\n",
       " 1.1001142800431694,\n",
       " -1.1142305467682647,\n",
       " 1.102321026722625)"
      ]
     },
     "execution_count": 60,
     "metadata": {},
     "output_type": "execute_result"
    },
    {
     "data": {
      "image/png": "[encoded data removed]",
      "text/plain": [
       "<Figure size 432x288 with 1 Axes>"
      ]
     },
     "metadata": {},
     "output_type": "display_data"
    }
   ],
   "source": [
    "ex_file = file.copy()\n",
    "\n",
    "data_last_10_years = ex_file[ex_file['Year']>2010].groupby(by=\"Publisher\").sum()\n",
    "top_5_games = data_last_10_years.nlargest(5, 'Global_Sales')\n",
    "other = data_last_10_years[data_last_10_years['Global_Sales']<=(top_5_games.min())['Global_Sales']].sum()\n",
    "labels = [\"Activision\", \"Electronic Arts\", \"Nintendo\", \"Ubisoft\", \"Take-Two Interactive\", \"Other\"]\n",
    "fig, ax = plt.subplots()\n",
    "top = top_5_games.append(other, ignore_index=True)\n",
    "ax.pie(top['Global_Sales'], labels=labels)\n",
    "ax.axis(\"equal\")"
   ]
  },
  {
   "cell_type": "markdown",
   "id": "75519fc0",
   "metadata": {},
   "source": [
    "5. Визначте середню кількість всіх проданих ігор у світі за кожні 5\n",
    "років, починаючи з 1980. Побудуйте графік hist."
   ]
  },
  {
   "cell_type": "code",
   "execution_count": 101,
   "id": "aeca68d8",
   "metadata": {},
   "outputs": [
    {
     "data": {
      "text/plain": [
       "<BarContainer object of 8 artists>"
      ]
     },
     "execution_count": 101,
     "metadata": {},
     "output_type": "execute_result"
    },
    {
     "data": {
      "image/png": "[encoded data removed]",
      "text/plain": [
       "<Figure size 1332x756 with 1 Axes>"
      ]
     },
     "metadata": {
      "needs_background": "light"
     },
     "output_type": "display_data"
    }
   ],
   "source": [
    "ex_file = file.copy()\n",
    "group_by_years = ex_file.groupby(ex_file['Year']).sum()\n",
    "start = 1980\n",
    "global_sales = 0\n",
    "year_range_global_sales_dict = {}\n",
    "for group_by_year in group_by_years.iterrows():\n",
    "    global_sales += group_by_year[1]['Global_Sales']\n",
    "    if int(group_by_year[0]) == start + 5:\n",
    "        year_range_global_sales_dict[f'{start} - {int(group_by_year[0])}'] = round(global_sales, 2) \n",
    "        global_sales = 0\n",
    "        start = start + 5\n",
    "        \n",
    "fig, ax = plt.subplots()\n",
    "fig.set_size_inches(18.5, 10.5)\n",
    "ax.bar(year_range_global_sales_dict.keys(), year_range_global_sales_dict.values(), color='g')"
   ]
  },
  {
   "cell_type": "code",
   "execution_count": null,
   "id": "59be619e",
   "metadata": {},
   "outputs": [],
   "source": []
  },
  {
   "cell_type": "code",
   "execution_count": null,
   "id": "faee57dd",
   "metadata": {},
   "outputs": [],
   "source": []
  }
 ],
 "metadata": {
  "kernelspec": {
   "display_name": "Python 3 (ipykernel)",
   "language": "python",
   "name": "python3"
  },
  "language_info": {
   "codemirror_mode": {
    "name": "ipython",
    "version": 3
   },
   "file_extension": ".py",
   "mimetype": "text/x-python",
   "name": "python",
   "nbconvert_exporter": "python",
   "pygments_lexer": "ipython3",
   "version": "3.8.2"
  }
 },
 "nbformat": 4,
 "nbformat_minor": 5
}
