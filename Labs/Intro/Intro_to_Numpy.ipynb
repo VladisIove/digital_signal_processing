{
 "cells": [
  {
   "cell_type": "code",
   "execution_count": 1,
   "id": "6619d03f",
   "metadata": {},
   "outputs": [],
   "source": [
    "import numpy as np"
   ]
  },
  {
   "cell_type": "markdown",
   "id": "28854cc0",
   "metadata": {},
   "source": [
    "# Завдання\n",
    "## 1. Створити двомірний нульовий масив розміром 11х11 та заповнити його діагоналі одиницями.\n",
    "\n",
    "1.1. Задати розмір масиву"
   ]
  },
  {
   "cell_type": "code",
   "execution_count": 2,
   "id": "f055638c",
   "metadata": {},
   "outputs": [],
   "source": [
    "size = 11"
   ]
  },
  {
   "cell_type": "markdown",
   "id": "46097263",
   "metadata": {},
   "source": [
    "1.2. Створити нульовий масив заданого розміру"
   ]
  },
  {
   "cell_type": "code",
   "execution_count": 3,
   "id": "9f4ed237",
   "metadata": {},
   "outputs": [],
   "source": [
    "arr = np.zeros([size, size])"
   ]
  },
  {
   "cell_type": "markdown",
   "id": "4f5ef126",
   "metadata": {},
   "source": [
    "1.3 Надрукувати створений масив"
   ]
  },
  {
   "cell_type": "code",
   "execution_count": 4,
   "id": "d727d01a",
   "metadata": {},
   "outputs": [
    {
     "name": "stdout",
     "output_type": "stream",
     "text": [
      "[[0. 0. 0. 0. 0. 0. 0. 0. 0. 0. 0.]\n",
      " [0. 0. 0. 0. 0. 0. 0. 0. 0. 0. 0.]\n",
      " [0. 0. 0. 0. 0. 0. 0. 0. 0. 0. 0.]\n",
      " [0. 0. 0. 0. 0. 0. 0. 0. 0. 0. 0.]\n",
      " [0. 0. 0. 0. 0. 0. 0. 0. 0. 0. 0.]\n",
      " [0. 0. 0. 0. 0. 0. 0. 0. 0. 0. 0.]\n",
      " [0. 0. 0. 0. 0. 0. 0. 0. 0. 0. 0.]\n",
      " [0. 0. 0. 0. 0. 0. 0. 0. 0. 0. 0.]\n",
      " [0. 0. 0. 0. 0. 0. 0. 0. 0. 0. 0.]\n",
      " [0. 0. 0. 0. 0. 0. 0. 0. 0. 0. 0.]\n",
      " [0. 0. 0. 0. 0. 0. 0. 0. 0. 0. 0.]]\n"
     ]
    }
   ],
   "source": [
    "print(arr)"
   ]
  },
  {
   "cell_type": "markdown",
   "id": "780619b3",
   "metadata": {},
   "source": [
    "1.4 Змінити діагоналі за допомогою двох циклів"
   ]
  },
  {
   "cell_type": "code",
   "execution_count": 5,
   "id": "2e2f6e80",
   "metadata": {},
   "outputs": [],
   "source": [
    "for i in range(size):\n",
    "\tfor j in range(size):\n",
    "\t\tif (i==j):\n",
    "\t\t\tarr[i][j] = 1\n",
    "\t\telif (j==size-i-1):\n",
    "\t\t\tarr[j][i] = 1"
   ]
  },
  {
   "cell_type": "markdown",
   "id": "e3de49b9",
   "metadata": {},
   "source": [
    "1.5 Вивести створений масив"
   ]
  },
  {
   "cell_type": "code",
   "execution_count": 6,
   "id": "2eab6afe",
   "metadata": {},
   "outputs": [
    {
     "name": "stdout",
     "output_type": "stream",
     "text": [
      "[[1. 0. 0. 0. 0. 0. 0. 0. 0. 0. 1.]\n",
      " [0. 1. 0. 0. 0. 0. 0. 0. 0. 1. 0.]\n",
      " [0. 0. 1. 0. 0. 0. 0. 0. 1. 0. 0.]\n",
      " [0. 0. 0. 1. 0. 0. 0. 1. 0. 0. 0.]\n",
      " [0. 0. 0. 0. 1. 0. 1. 0. 0. 0. 0.]\n",
      " [0. 0. 0. 0. 0. 1. 0. 0. 0. 0. 0.]\n",
      " [0. 0. 0. 0. 1. 0. 1. 0. 0. 0. 0.]\n",
      " [0. 0. 0. 1. 0. 0. 0. 1. 0. 0. 0.]\n",
      " [0. 0. 1. 0. 0. 0. 0. 0. 1. 0. 0.]\n",
      " [0. 1. 0. 0. 0. 0. 0. 0. 0. 1. 0.]\n",
      " [1. 0. 0. 0. 0. 0. 0. 0. 0. 0. 1.]]\n"
     ]
    }
   ],
   "source": [
    "print(arr)"
   ]
  },
  {
   "cell_type": "markdown",
   "id": "47374320",
   "metadata": {},
   "source": [
    "## 2. Засобами NumPy створити вертикальні та горизонтальні зображення градієнту в обидва боки (поступове збільшення яскравості на зображенні).\n",
    "\n",
    "Приклад зображення градієнту\n",
    "<img src=\"./horizontal_grad.jpg\" height=\"200\" width=\"200\">"
   ]
  },
  {
   "cell_type": "markdown",
   "id": "7f3af017",
   "metadata": {},
   "source": [
    "### Горизонтальний градієнт"
   ]
  },
  {
   "cell_type": "markdown",
   "id": "75bee770",
   "metadata": {},
   "source": [
    "2.1 Створити нульовий масив розміром 255х255"
   ]
  },
  {
   "cell_type": "code",
   "execution_count": 8,
   "id": "1dd3329f",
   "metadata": {},
   "outputs": [],
   "source": [
    "import cv2\n",
    "import numpy as np"
   ]
  },
  {
   "cell_type": "code",
   "execution_count": 9,
   "id": "64621800",
   "metadata": {},
   "outputs": [],
   "source": [
    "size = 255\n",
    "horizontal_gradient1 = np.zeros([size, size])"
   ]
  },
  {
   "cell_type": "markdown",
   "id": "e0880549",
   "metadata": {},
   "source": [
    "2.2 Визначити розміри масиву"
   ]
  },
  {
   "cell_type": "code",
   "execution_count": 10,
   "id": "d52e55a5",
   "metadata": {},
   "outputs": [],
   "source": [
    "w = horizontal_gradient1.shape[1]\n",
    "h = horizontal_gradient1.shape[0]"
   ]
  },
  {
   "cell_type": "markdown",
   "id": "b8c0be8e",
   "metadata": {},
   "source": [
    "2.3 Поелементно змінити яскравості кожного пікселя"
   ]
  },
  {
   "cell_type": "code",
   "execution_count": 13,
   "id": "1bbc1cc9",
   "metadata": {},
   "outputs": [],
   "source": [
    "for i in range(size):\n",
    "    for j in range(size):\n",
    "        horizontal_gradient1[j][i] = i"
   ]
  },
  {
   "cell_type": "markdown",
   "id": "a060c997",
   "metadata": {},
   "source": [
    "2.4 Записати зображення засабами OpenCV"
   ]
  },
  {
   "cell_type": "code",
   "execution_count": 14,
   "id": "531a1279",
   "metadata": {},
   "outputs": [
    {
     "data": {
      "text/plain": [
       "True"
      ]
     },
     "execution_count": 14,
     "metadata": {},
     "output_type": "execute_result"
    }
   ],
   "source": [
    "cv2.imwrite('ex.jpg', horizontal_gradient1)"
   ]
  },
  {
   "cell_type": "markdown",
   "id": "690b549f",
   "metadata": {},
   "source": [
    "2.5 Аналогічно створити горизонтальний градієнт в інший бік"
   ]
  },
  {
   "cell_type": "code",
   "execution_count": 28,
   "id": "ffe2125b",
   "metadata": {},
   "outputs": [
    {
     "data": {
      "text/plain": [
       "True"
      ]
     },
     "execution_count": 28,
     "metadata": {},
     "output_type": "execute_result"
    }
   ],
   "source": [
    "size = 255\n",
    "horizontal_gradient2 = np.zeros([size, size])\n",
    "\n",
    "w = horizontal_gradient2.shape[1]\n",
    "h = horizontal_gradient2.shape[0]\n",
    "for i in range(size):\n",
    "    for j in range(size):\n",
    "        horizontal_gradient2[size-1-j][size-1-i] = i\n",
    "        \n",
    "cv2.imwrite('ex1.jpg', horizontal_gradient2)"
   ]
  },
  {
   "cell_type": "markdown",
   "id": "f4a64121",
   "metadata": {},
   "source": [
    "### Вертикальний градієнт"
   ]
  },
  {
   "cell_type": "markdown",
   "id": "bf287318",
   "metadata": {},
   "source": [
    "2.6 Створити нульовий масив розміром 255х255"
   ]
  },
  {
   "cell_type": "code",
   "execution_count": 29,
   "id": "a463f713",
   "metadata": {},
   "outputs": [],
   "source": [
    "vertical_gradient1 = np.zeros([size, size])"
   ]
  },
  {
   "cell_type": "markdown",
   "id": "b3f30da2",
   "metadata": {},
   "source": [
    "2.7 Визначити розміри масиву"
   ]
  },
  {
   "cell_type": "code",
   "execution_count": 30,
   "id": "301078f6",
   "metadata": {},
   "outputs": [],
   "source": [
    "w = vertical_gradient1.shape[1]\n",
    "h = vertical_gradient1.shape[0]"
   ]
  },
  {
   "cell_type": "code",
   "execution_count": null,
   "id": "fa57401d",
   "metadata": {},
   "outputs": [],
   "source": []
  }
 ],
 "metadata": {
  "kernelspec": {
   "display_name": "Python 3 (ipykernel)",
   "language": "python",
   "name": "python3"
  },
  "language_info": {
   "codemirror_mode": {
    "name": "ipython",
    "version": 3
   },
   "file_extension": ".py",
   "mimetype": "text/x-python",
   "name": "python",
   "nbconvert_exporter": "python",
   "pygments_lexer": "ipython3",
   "version": "3.8.2"
  }
 },
 "nbformat": 4,
 "nbformat_minor": 5
}
