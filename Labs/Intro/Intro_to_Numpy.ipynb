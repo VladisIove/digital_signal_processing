{
 "cells": [
  {
   "cell_type": "code",
   "execution_count": 1,
   "id": "cf1be92d",
   "metadata": {},
   "outputs": [],
   "source": [
    "import numpy as np"
   ]
  },
  {
   "cell_type": "markdown",
   "id": "a754bff0",
   "metadata": {},
   "source": [
    "# Завдання\n",
    "## 1. Створити двомірний нульовий масив розміром 11х11 та заповнити його діагоналі одиницями.\n",
    "\n",
    "1.1. Задати розмір масиву"
   ]
  },
  {
   "cell_type": "code",
   "execution_count": 2,
   "id": "fcfa466a",
   "metadata": {},
   "outputs": [],
   "source": [
    "size = 11"
   ]
  },
  {
   "cell_type": "markdown",
   "id": "c3f6e9e3",
   "metadata": {},
   "source": [
    "1.2. Створити нульовий масив заданого розміру"
   ]
  },
  {
   "cell_type": "code",
   "execution_count": 3,
   "id": "2d1a11b1",
   "metadata": {},
   "outputs": [],
   "source": [
    "arr = np.zeros([size, size])"
   ]
  },
  {
   "cell_type": "markdown",
   "id": "32f6da52",
   "metadata": {},
   "source": [
    "1.3 Надрукувати створений масив"
   ]
  },
  {
   "cell_type": "code",
   "execution_count": 4,
   "id": "7eb09f39",
   "metadata": {},
   "outputs": [
    {
     "name": "stdout",
     "output_type": "stream",
     "text": [
      "[[0. 0. 0. 0. 0. 0. 0. 0. 0. 0. 0.]\n",
      " [0. 0. 0. 0. 0. 0. 0. 0. 0. 0. 0.]\n",
      " [0. 0. 0. 0. 0. 0. 0. 0. 0. 0. 0.]\n",
      " [0. 0. 0. 0. 0. 0. 0. 0. 0. 0. 0.]\n",
      " [0. 0. 0. 0. 0. 0. 0. 0. 0. 0. 0.]\n",
      " [0. 0. 0. 0. 0. 0. 0. 0. 0. 0. 0.]\n",
      " [0. 0. 0. 0. 0. 0. 0. 0. 0. 0. 0.]\n",
      " [0. 0. 0. 0. 0. 0. 0. 0. 0. 0. 0.]\n",
      " [0. 0. 0. 0. 0. 0. 0. 0. 0. 0. 0.]\n",
      " [0. 0. 0. 0. 0. 0. 0. 0. 0. 0. 0.]\n",
      " [0. 0. 0. 0. 0. 0. 0. 0. 0. 0. 0.]]\n"
     ]
    }
   ],
   "source": [
    "print(arr)"
   ]
  },
  {
   "cell_type": "markdown",
   "id": "5bcf56f1",
   "metadata": {},
   "source": [
    "1.4 Змінити діагоналі за допомогою двох циклів"
   ]
  },
  {
   "cell_type": "code",
   "execution_count": 5,
   "id": "24861d64",
   "metadata": {},
   "outputs": [],
   "source": [
    "for i in range(size):\n",
    "\tfor j in range(size):\n",
    "\t\tif (i==j):\n",
    "\t\t\tarr[i][j] = 1\n",
    "\t\telif (j==size-i-1):\n",
    "\t\t\tarr[j][i] = 1"
   ]
  },
  {
   "cell_type": "markdown",
   "id": "f2619977",
   "metadata": {},
   "source": [
    "1.5 Вивести створений масив"
   ]
  },
  {
   "cell_type": "code",
   "execution_count": 6,
   "id": "254b6dd4",
   "metadata": {},
   "outputs": [
    {
     "name": "stdout",
     "output_type": "stream",
     "text": [
      "[[1. 0. 0. 0. 0. 0. 0. 0. 0. 0. 1.]\n",
      " [0. 1. 0. 0. 0. 0. 0. 0. 0. 1. 0.]\n",
      " [0. 0. 1. 0. 0. 0. 0. 0. 1. 0. 0.]\n",
      " [0. 0. 0. 1. 0. 0. 0. 1. 0. 0. 0.]\n",
      " [0. 0. 0. 0. 1. 0. 1. 0. 0. 0. 0.]\n",
      " [0. 0. 0. 0. 0. 1. 0. 0. 0. 0. 0.]\n",
      " [0. 0. 0. 0. 1. 0. 1. 0. 0. 0. 0.]\n",
      " [0. 0. 0. 1. 0. 0. 0. 1. 0. 0. 0.]\n",
      " [0. 0. 1. 0. 0. 0. 0. 0. 1. 0. 0.]\n",
      " [0. 1. 0. 0. 0. 0. 0. 0. 0. 1. 0.]\n",
      " [1. 0. 0. 0. 0. 0. 0. 0. 0. 0. 1.]]\n"
     ]
    }
   ],
   "source": [
    "print(arr)"
   ]
  },
  {
   "cell_type": "markdown",
   "id": "55560e0a",
   "metadata": {},
   "source": [
    "## 2. Засобами NumPy створити вертикальні та горизонтальні зображення градієнту в обидва боки (поступове збільшення яскравості на зображенні).\n",
    "\n",
    "Приклад зображення градієнту\n",
    "<img src=\"./horizontal_grad.jpg\" height=\"200\" width=\"200\">"
   ]
  },
  {
   "cell_type": "markdown",
   "id": "c2fdab2d",
   "metadata": {},
   "source": [
    "### Горизонтальний градієнт"
   ]
  },
  {
   "cell_type": "markdown",
   "id": "d914ce04",
   "metadata": {},
   "source": [
    "2.1 Створити нульовий масив розміром 255х255"
   ]
  },
  {
   "cell_type": "code",
   "execution_count": 7,
   "id": "5a47fca5",
   "metadata": {},
   "outputs": [],
   "source": [
    "import cv2\n",
    "import numpy as np"
   ]
  },
  {
   "cell_type": "code",
   "execution_count": 8,
   "id": "34ce75bf",
   "metadata": {},
   "outputs": [],
   "source": [
    "size = 255\n",
    "horizontal_gradient1 = np.zeros([size, size])"
   ]
  },
  {
   "cell_type": "markdown",
   "id": "7861e5c5",
   "metadata": {},
   "source": [
    "2.2 Визначити розміри масиву"
   ]
  },
  {
   "cell_type": "code",
   "execution_count": 9,
   "id": "93a99718",
   "metadata": {},
   "outputs": [],
   "source": [
    "w = horizontal_gradient1.shape[1]\n",
    "h = horizontal_gradient1.shape[0]"
   ]
  },
  {
   "cell_type": "markdown",
   "id": "d27a218e",
   "metadata": {},
   "source": [
    "2.3 Поелементно змінити яскравості кожного пікселя"
   ]
  },
  {
   "cell_type": "code",
   "execution_count": 10,
   "id": "d4b7e67d",
   "metadata": {},
   "outputs": [],
   "source": [
    "for i in range(size):\n",
    "    for j in range(size):\n",
    "        horizontal_gradient1[j][i] = i"
   ]
  },
  {
   "cell_type": "markdown",
   "id": "f810473f",
   "metadata": {},
   "source": [
    "2.4 Записати зображення засабами OpenCV"
   ]
  },
  {
   "cell_type": "code",
   "execution_count": 11,
   "id": "34030039",
   "metadata": {},
   "outputs": [
    {
     "data": {
      "text/plain": [
       "True"
      ]
     },
     "execution_count": 11,
     "metadata": {},
     "output_type": "execute_result"
    }
   ],
   "source": [
    "cv2.imwrite('ex.jpg', horizontal_gradient1)"
   ]
  },
  {
   "cell_type": "markdown",
   "id": "2337b2a1",
   "metadata": {},
   "source": [
    "2.5 Аналогічно створити горизонтальний градієнт в інший бік"
   ]
  },
  {
   "cell_type": "code",
   "execution_count": 12,
   "id": "60fa7164",
   "metadata": {},
   "outputs": [
    {
     "data": {
      "text/plain": [
       "True"
      ]
     },
     "execution_count": 12,
     "metadata": {},
     "output_type": "execute_result"
    }
   ],
   "source": [
    "size = 255\n",
    "horizontal_gradient2 = np.zeros([size, size])\n",
    "\n",
    "w = horizontal_gradient2.shape[1]\n",
    "h = horizontal_gradient2.shape[0]\n",
    "for i in range(size):\n",
    "    for j in range(size):\n",
    "        horizontal_gradient2[size-1-j][size-1-i] = i\n",
    "        \n",
    "cv2.imwrite('ex1.jpg', horizontal_gradient2)"
   ]
  },
  {
   "cell_type": "markdown",
   "id": "faaa2f82",
   "metadata": {},
   "source": [
    "### Вертикальний градієнт"
   ]
  },
  {
   "cell_type": "markdown",
   "id": "4e756ea0",
   "metadata": {},
   "source": [
    "2.6 Створити нульовий масив розміром 255х255"
   ]
  },
  {
   "cell_type": "code",
   "execution_count": 13,
   "id": "c61e044a",
   "metadata": {},
   "outputs": [],
   "source": [
    "vertical_gradient1 = np.zeros([size, size])"
   ]
  },
  {
   "cell_type": "markdown",
   "id": "77f9f681",
   "metadata": {},
   "source": [
    "2.7 Визначити розміри масиву"
   ]
  },
  {
   "cell_type": "code",
   "execution_count": 14,
   "id": "af2d8208",
   "metadata": {},
   "outputs": [],
   "source": [
    "w = vertical_gradient1.shape[1]\n",
    "h = vertical_gradient1.shape[0]"
   ]
  },
  {
   "cell_type": "markdown",
   "id": "56ad765a",
   "metadata": {},
   "source": [
    "2.8 Поелементно змінити яскравості кожного пікселя"
   ]
  },
  {
   "cell_type": "code",
   "execution_count": 15,
   "id": "c447727f",
   "metadata": {},
   "outputs": [],
   "source": [
    "for i in range(h):\n",
    "    for j in range(w):\n",
    "        vertical_gradient1[i][j] = i"
   ]
  },
  {
   "cell_type": "markdown",
   "id": "90f964bf",
   "metadata": {},
   "source": [
    "2.9 Записати зображення засабами OpenCV"
   ]
  },
  {
   "cell_type": "code",
   "execution_count": 16,
   "id": "dc4d8e9c",
   "metadata": {},
   "outputs": [
    {
     "data": {
      "text/plain": [
       "True"
      ]
     },
     "execution_count": 16,
     "metadata": {},
     "output_type": "execute_result"
    }
   ],
   "source": [
    "cv2.imwrite('ex3.jpg', vertical_gradient1)"
   ]
  },
  {
   "cell_type": "markdown",
   "id": "ff723945",
   "metadata": {},
   "source": [
    "2.10 Аналогічно створити горизонтальний градієнт в інший бік"
   ]
  },
  {
   "cell_type": "code",
   "execution_count": 17,
   "id": "1530263f",
   "metadata": {},
   "outputs": [
    {
     "data": {
      "text/plain": [
       "True"
      ]
     },
     "execution_count": 17,
     "metadata": {},
     "output_type": "execute_result"
    }
   ],
   "source": [
    "vertical_gradient2 = np.zeros([size, size])\n",
    "\n",
    "w = vertical_gradient2.shape[1]\n",
    "h = vertical_gradient2.shape[0]\n",
    "\n",
    "for i in range(size):\n",
    "    for j in range(size):\n",
    "        vertical_gradient2[size-1-i][size-1-j] = i\n",
    "        \n",
    "cv2.imwrite('ex4.jpg', vertical_gradient2)\n",
    "\n"
   ]
  },
  {
   "cell_type": "code",
   "execution_count": null,
   "id": "309bf195",
   "metadata": {},
   "outputs": [],
   "source": []
  },
  {
   "cell_type": "code",
   "execution_count": null,
   "id": "eea93bb0",
   "metadata": {},
   "outputs": [],
   "source": []
  }
 ],
 "metadata": {
  "kernelspec": {
   "display_name": "Python 3 (ipykernel)",
   "language": "python",
   "name": "python3"
  },
  "language_info": {
   "codemirror_mode": {
    "name": "ipython",
    "version": 3
   },
   "file_extension": ".py",
   "mimetype": "text/x-python",
   "name": "python",
   "nbconvert_exporter": "python",
   "pygments_lexer": "ipython3",
   "version": "3.8.2"
  }
 },
 "nbformat": 4,
 "nbformat_minor": 5
}
