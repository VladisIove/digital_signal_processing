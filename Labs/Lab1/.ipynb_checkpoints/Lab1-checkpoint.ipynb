{
 "cells": [
  {
   "cell_type": "markdown",
   "id": "78b632ed",
   "metadata": {},
   "source": [
    "\n",
    "## Завдання\n",
    "Створити скрипт Python або Notebook з наступним функціоналом:\n",
    "1. Зчитати та завантажити тестове чорно-біле та кольорове зображення.\n",
    "2. Відобразити чорно-біле та кольорове зображення.\n",
    "3. Перетворити зображення з колірної моделі BGR в колірні моделі RGB і HSV та відобразити.\n",
    "4. Окремо відобразити колірні канали для зображень із колірними моделями RGB та HSV.\n",
    "5. Скопіювати область інтересу (Region of Interest) чорно-білого зображення, використовуючи наступні діапазони 0:img.shape[0]/2, 0:img.shape[1]/2.\n",
    "6. Зберегти область інтересу (Region of Interest).\n",
    "\n",
    "### Додаткові завдання:\n",
    "1. Перетворити зображення з колірної моделі BGR в колірну модель HSV за допомогою формул.\n",
    "2. Реалізувати функцію для визначення колірної відстані (Delta E76, Delta E94)."
   ]
  },
  {
   "cell_type": "code",
   "execution_count": 1,
   "id": "9c7e0003",
   "metadata": {},
   "outputs": [],
   "source": [
    "import cv2\n",
    "import numpy as np \n",
    "import matplotlib.pyplot as plt"
   ]
  },
  {
   "cell_type": "code",
   "execution_count": null,
   "id": "5ba99c68",
   "metadata": {},
   "outputs": [],
   "source": [
    "img_bw = cv2.imread(\"./ex1.JPG\", cv2.IMREAD_GRAYSCALE)\n",
    "img_color = cv2.imread(\"./ex2.JPG\", cv2.COLOR_BGR2RGB)"
   ]
  }
 ],
 "metadata": {
  "kernelspec": {
   "display_name": "Python 3 (ipykernel)",
   "language": "python",
   "name": "python3"
  },
  "language_info": {
   "codemirror_mode": {
    "name": "ipython",
    "version": 3
   },
   "file_extension": ".py",
   "mimetype": "text/x-python",
   "name": "python",
   "nbconvert_exporter": "python",
   "pygments_lexer": "ipython3",
   "version": "3.8.2"
  }
 },
 "nbformat": 4,
 "nbformat_minor": 5
}
